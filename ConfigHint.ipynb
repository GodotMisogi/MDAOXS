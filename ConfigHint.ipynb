{
 "cells": [
  {
   "cell_type": "markdown",
   "metadata": {},
   "source": [
    "# Jupyter notebook Configuration in PDC server\n",
    "## Anaconda\n",
    "\n",
    "* install anaconda in your own directory. [link](http://pdc-software-web.readthedocs.io/en/latest/software/python/index.html#installing-your-own-python-environment) And\n",
    "```bash\n",
    "$export PATH=$PATH:<BIN_PATH_OF_YOUR_OWN_ANACONDA>\n",
    "```\n",
    "\n",
    "* create your conda environment and install package you want.\n",
    "\n",
    "## Jupyter notebook\n",
    "* ```$salloc``` a new node and login.\n",
    "* generate configure file (default in ```~/.jupyter/jupyter_notebook_config.py```)\n",
    "```bash\n",
    "$jupyter notebook --generate-config\n",
    "```\n",
    "\n",
    "* generate password (default in ```~/.jupyter/jupyter_notebook_config.json```)\n",
    "```bash\n",
    "$jupyter notebook password\n",
    "```\n",
    "* change the ```~/.jupyter/jupyter_notebook_config.py```\n",
    "```bash\n",
    "c.NotebookApp.ip='*'\n",
    "c.NotebookApp.password = u'sha:ce...' # password in the json file\n",
    "c.NotebookApp.open_browser = False\n",
    "c.NotebookApp.port =8888 #\n",
    "```\n",
    "\n",
    "## conda environment\n",
    "* install jupyter conda extension. (Suppose you have activate your environment)\n",
    "```bash\n",
    "(virt-env)$conda install nb_conda\n",
    "```\n",
    "\n",
    "## Find machine IP Address\n",
    "```bash\n",
    "\n",
    "$$$e$e$e$$e$$e$$e$e\n",
    "$cat /sbin/ifconfig\n",
    "```\n",
    "\n",
    "## Run\n",
    "* on server\n",
    "```bash\n",
    "(virt-env)$jupyter notebook\n",
    "```\n",
    "* locally, browse ```<ip>:<port>```\n",
    "* test in jupyter notebook as follows. It should be the python in your virtual environment."
   ]
  },
  {
   "cell_type": "code",
   "execution_count": 4,
   "metadata": {},
   "outputs": [
    {
     "data": {
      "text/plain": [
       "'/cfs/klemming/nobackup/x/xshi/anaconda3/envs/thesis/bin/python'"
      ]
     },
     "execution_count": 4,
     "metadata": {},
     "output_type": "execute_result"
    }
   ],
   "source": [
    "import sys\n",
    "sys.executable"
   ]
  },
  {
   "cell_type": "code",
   "execution_count": null,
   "metadata": {},
   "outputs": [],
   "source": []
  }
 ],
 "metadata": {
  "kernelspec": {
   "display_name": "Python [default]",
   "language": "python",
   "name": "python3"
  },
  "language_info": {
   "codemirror_mode": {
    "name": "ipython",
    "version": 3
   },
   "file_extension": ".py",
   "mimetype": "text/x-python",
   "name": "python",
   "nbconvert_exporter": "python",
   "pygments_lexer": "ipython3",
   "version": "3.6.4"
  }
 },
 "nbformat": 4,
 "nbformat_minor": 2
}
