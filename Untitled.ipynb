{
 "cells": [
  {
   "cell_type": "markdown",
   "metadata": {
    "toc": true
   },
   "source": [
    "<h1>Table of Contents<span class=\"tocSkip\"></span></h1>\n",
    "<div class=\"toc\"><ul class=\"toc-item\"></ul></div>"
   ]
  },
  {
   "cell_type": "code",
   "execution_count": 2,
   "metadata": {},
   "outputs": [
    {
     "ename": "ImportError",
     "evalue": "cannot import name 'Newton'",
     "output_type": "error",
     "traceback": [
      "\u001b[0;31m---------------------------------------------------------------------------\u001b[0m",
      "\u001b[0;31mImportError\u001b[0m                               Traceback (most recent call last)",
      "\u001b[0;32m<ipython-input-2-ab0be49b0220>\u001b[0m in \u001b[0;36m<module>\u001b[0;34m()\u001b[0m\n\u001b[1;32m      1\u001b[0m \u001b[0;32mfrom\u001b[0m \u001b[0m__future__\u001b[0m \u001b[0;32mimport\u001b[0m \u001b[0mprint_function\u001b[0m\u001b[0;34m\u001b[0m\u001b[0m\n\u001b[1;32m      2\u001b[0m \u001b[0;34m\u001b[0m\u001b[0m\n\u001b[0;32m----> 3\u001b[0;31m \u001b[0;32mfrom\u001b[0m \u001b[0mopenmdao\u001b[0m\u001b[0;34m.\u001b[0m\u001b[0mapi\u001b[0m \u001b[0;32mimport\u001b[0m \u001b[0mComponent\u001b[0m\u001b[0;34m,\u001b[0m \u001b[0mGroup\u001b[0m\u001b[0;34m,\u001b[0m \u001b[0mProblem\u001b[0m\u001b[0;34m,\u001b[0m \u001b[0mNewton\u001b[0m\u001b[0;34m,\u001b[0m \u001b[0mScipyGMRES\u001b[0m\u001b[0;34m\u001b[0m\u001b[0m\n\u001b[0m\u001b[1;32m      4\u001b[0m \u001b[0;34m\u001b[0m\u001b[0m\n\u001b[1;32m      5\u001b[0m \u001b[0;34m\u001b[0m\u001b[0m\n",
      "\u001b[0;31mImportError\u001b[0m: cannot import name 'Newton'"
     ]
    }
   ],
   "source": [
    "from __future__ import print_function\n",
    "\n",
    "from openmdao.api import Component, Group, Problem, Newton, ScipyGMRES\n",
    "\n",
    "\n",
    "class Line(Component):\n",
    "    \"\"\"Evaluates y = -2x + 4.\"\"\"\n",
    "\n",
    "    def __init__(self):\n",
    "        super(Line, self).__init__()\n",
    "\n",
    "        self.add_param('x', 1.0)\n",
    "        self.add_output('y', 0.0)\n",
    "\n",
    "        # User can change these.\n",
    "        self.slope = -2.0\n",
    "        self.intercept = 4.0\n",
    "\n",
    "    def solve_nonlinear(self, params, unknowns, resids):\n",
    "        \"\"\" y = -2x + 4 \"\"\"\n",
    "\n",
    "        x = params['x']\n",
    "        m = self.slope\n",
    "        b = self.intercept\n",
    "\n",
    "        unknowns['y'] = m*x + b\n",
    "\n",
    "    def linearize(self, params, unknowns, resids):\n",
    "        \"\"\" Jacobian for our line.\"\"\"\n",
    "\n",
    "        m = self.slope\n",
    "        J = {}\n",
    "\n",
    "        J['y', 'x'] = m\n",
    "        return J\n",
    "\n",
    "\n",
    "class Parabola(Component):\n",
    "    \"\"\"Evaluates y = 3x^2 - 5\"\"\"\n",
    "\n",
    "    def __init__(self):\n",
    "        super(Parabola, self).__init__()\n",
    "\n",
    "        self.add_param('x', 1.0)\n",
    "        self.add_output('y', 0.0)\n",
    "\n",
    "        # User can change these.\n",
    "        self.a = 3.0\n",
    "        self.b = 0.0\n",
    "        self.c = -5.0\n",
    "\n",
    "    def solve_nonlinear(self, params, unknowns, resids):\n",
    "        \"\"\" y = 3x^2 - 5 \"\"\"\n",
    "\n",
    "        x = params['x']\n",
    "        a = self.a\n",
    "        b = self.b\n",
    "        c = self.c\n",
    "\n",
    "        unknowns['y'] = a*x**2 + b*x + c\n",
    "\n",
    "    def linearize(self, params, unknowns, resids):\n",
    "        \"\"\" Jacobian for our parabola.\"\"\"\n",
    "\n",
    "        x = params['x']\n",
    "        a = self.a\n",
    "        b = self.b\n",
    "        J = {}\n",
    "\n",
    "        J['y', 'x'] = 2.0*a*x + b\n",
    "        return J"
   ]
  },
  {
   "cell_type": "code",
   "execution_count": null,
   "metadata": {},
   "outputs": [],
   "source": [
    "class Balance(Component):\n",
    "    \"\"\"Evaluates the residual y1-y2\"\"\"\n",
    "\n",
    "    def __init__(self):\n",
    "        super(Balance, self).__init__()\n",
    "\n",
    "        self.add_param('y1', 0.0)\n",
    "        self.add_param('y2', 0.0)\n",
    "        self.add_state('x', 5.0)\n",
    "\n",
    "    def solve_nonlinear(self, params, unknowns, resids):\n",
    "        \"\"\"This component does no calculation on its own. It mainly holds the\n",
    "        initial value of the state. An OpenMDAO solver outside of this\n",
    "        component varies it to drive the residual to zero.\"\"\"\n",
    "        pass\n",
    "\n",
    "    def apply_nonlinear(self, params, unknowns, resids):\n",
    "        \"\"\" Report the residual y1-y2 \"\"\"\n",
    "\n",
    "        y1 = params['y1']\n",
    "        y2 = params['y2']\n",
    "\n",
    "        resids['x'] = y1 - y2\n",
    "\n",
    "    def linearize(self, params, unknowns, resids):\n",
    "        \"\"\" Jacobian for our parabola.\"\"\"\n",
    "\n",
    "        J = {}\n",
    "        J['x', 'y1'] = 1.0\n",
    "        J['x', 'y2'] = -1.0\n",
    "        return J"
   ]
  }
 ],
 "metadata": {
  "kernelspec": {
   "display_name": "Python [conda env:thesis]",
   "language": "python",
   "name": "conda-env-thesis-py"
  },
  "language_info": {
   "codemirror_mode": {
    "name": "ipython",
    "version": 3
   },
   "file_extension": ".py",
   "mimetype": "text/x-python",
   "name": "python",
   "nbconvert_exporter": "python",
   "pygments_lexer": "ipython3",
   "version": "3.6.4"
  },
  "toc": {
   "nav_menu": {},
   "number_sections": true,
   "sideBar": true,
   "skip_h1_title": false,
   "title_cell": "Table of Contents",
   "title_sidebar": "Contents",
   "toc_cell": true,
   "toc_position": {},
   "toc_section_display": true,
   "toc_window_display": false
  }
 },
 "nbformat": 4,
 "nbformat_minor": 2
}
