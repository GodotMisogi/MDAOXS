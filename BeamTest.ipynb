{
 "cells": [
  {
   "cell_type": "markdown",
   "metadata": {},
   "source": [
    "# Optimizing the Thickness Distribution of a Cantilever Beam Using the Adjoint Method\n",
    "[link](http://openmdao.org/twodocs/versions/latest/examples/beam_optimization/beam_optimization.html)"
   ]
  },
  {
   "cell_type": "code",
   "execution_count": 2,
   "metadata": {},
   "outputs": [
    {
     "name": "stdout",
     "output_type": "stream",
     "text": [
      "Optimization terminated successfully.    (Exit mode 0)\n",
      "            Current function value: 23762.15367729527\n",
      "            Iterations: 143\n",
      "            Function evaluations: 422\n",
      "            Gradient evaluations: 143\n",
      "Optimization Complete\n",
      "-----------------------------------\n",
      "[0.1491576  0.14764323 0.14611337 0.14456709 0.14300416 0.14142406\n",
      " 0.13982617 0.1382097  0.13657402 0.13491834 0.13324266 0.13154535\n",
      " 0.12982583 0.12808327 0.12631662 0.12452491 0.12270698 0.12086174\n",
      " 0.11898799 0.11708414 0.115149   0.11318075 0.11117758 0.10913768\n",
      " 0.10705881 0.10493902 0.10277558 0.10056532 0.09830548 0.09599259\n",
      " 0.09362248 0.09119087 0.08869269 0.08612194 0.08347182 0.08073567\n",
      " 0.07790332 0.07496384 0.07190452 0.06870935 0.06535838 0.06182628\n",
      " 0.05808053 0.05407662 0.04975298 0.04501845 0.03972916 0.03363155\n",
      " 0.0262019  0.01610862]\n"
     ]
    }
   ],
   "source": [
    "import numpy as np\n",
    "\n",
    "from openmdao.api import Problem, ScipyOptimizer\n",
    "\n",
    "from openmdao.test_suite.test_examples.beam_optimization.beam_group import BeamGroup\n",
    "\n",
    "E = 1.\n",
    "L = 1.\n",
    "b = 0.1\n",
    "volume = 0.01\n",
    "\n",
    "num_elements = 50\n",
    "\n",
    "prob = Problem(model=BeamGroup(E=E, L=L, b=b, volume=volume, num_elements=num_elements))\n",
    "\n",
    "prob.driver = ScipyOptimizer()\n",
    "prob.driver.options['optimizer'] = 'SLSQP'\n",
    "prob.driver.options['tol'] = 1e-9\n",
    "prob.driver.options['disp'] = True\n",
    "\n",
    "prob.setup()\n",
    "\n",
    "prob.run_driver()\n",
    "print(prob['inputs_comp.h'])"
   ]
  },
  {
   "cell_type": "code",
   "execution_count": 3,
   "metadata": {},
   "outputs": [],
   "source": [
    "%matplotlib inline"
   ]
  },
  {
   "cell_type": "code",
   "execution_count": 6,
   "metadata": {},
   "outputs": [
    {
     "data": {
      "text/plain": [
       "[<matplotlib.lines.Line2D at 0x7fca05a0b8d0>]"
      ]
     },
     "execution_count": 6,
     "metadata": {},
     "output_type": "execute_result"
    },
    {
     "data": {
      "image/png": "[encoded data removed]",
      "text/plain": [
       "<matplotlib.figure.Figure at 0x7fca080ed128>"
      ]
     },
     "metadata": {},
     "output_type": "display_data"
    }
   ],
   "source": [
    "import matplotlib.pyplot as plt\n",
    "plt.plot(prob['inputs_comp.h'],'.')"
   ]
  },
  {
   "cell_type": "code",
   "execution_count": null,
   "metadata": {},
   "outputs": [],
   "source": []
  }
 ],
 "metadata": {
  "kernelspec": {
   "display_name": "Python [conda env:thesis]",
   "language": "python",
   "name": "conda-env-thesis-py"
  },
  "language_info": {
   "codemirror_mode": {
    "name": "ipython",
    "version": 3
   },
   "file_extension": ".py",
   "mimetype": "text/x-python",
   "name": "python",
   "nbconvert_exporter": "python",
   "pygments_lexer": "ipython3",
   "version": "3.6.4"
  },
  "toc": {
   "nav_menu": {},
   "number_sections": true,
   "sideBar": true,
   "skip_h1_title": false,
   "title_cell": "Table of Contents",
   "title_sidebar": "Contents",
   "toc_cell": false,
   "toc_position": {},
   "toc_section_display": true,
   "toc_window_display": false
  }
 },
 "nbformat": 4,
 "nbformat_minor": 2
}
