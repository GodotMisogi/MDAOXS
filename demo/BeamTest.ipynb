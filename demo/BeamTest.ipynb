{
 "cells": [
  {
   "cell_type": "markdown",
   "metadata": {},
   "source": [
    "Optimizing the Thickness Distribution of a Cantilever Beam Using the Adjoint Method\n",
    "[link](http://openmdao.org/twodocs/versions/latest/examples/beam_optimization/beam_optimization.html)\n",
    "1. Moment of inertia of element: $M_i(h)$ Explicit\n",
    "2. Compute local stiff matrix:   $K_i(M_i)$ Explicit\n",
    "3. Assemble global stiff matrix: $K(K_i)$ Explicit\n",
    "4. solve $K\\hat{d}=f$ augmented with the Lagrange multipliers $\\hat{d}=\\hat{d}(K,f)$ Implicit\n",
    "5. extract the displacements in $d(\\hat{d})$ Explicit\n",
    "6. objective: compliance $f^Td(d)$ Explicit\n",
    "7. constraint: volume $V(h)$ Explicit\n",
    "\n",
    "\n",
    "* Problem:\n",
    "\n",
    "$\\min f^Td$ w.r.t. $h$\n",
    "\n",
    "such that:     $\\sum{h}bL_0=V$, $10^{-2}<h<10$\n",
    "\n",
    "* Given:\n",
    "    * $N$: scalar of number of element (because it uses FEM)\n",
    "    * $f$: vector of forces\n",
    "    * $L$: scalar of total length of beam\n",
    "    * $b$: scalar of width of beam\n",
    "    * $V$: scalar of volume of beam\n",
    "    * $EI$: scalar of elastic modulus\n",
    "\n",
    "\n",
    "* Unknown:\n",
    "    * $d$: vector of displacement $Kd=f$\n",
    "    * $h$: vector of beam height. **Design Variables**\n",
    "    * $L_0$: scalar of length of a single element $L_0=L/N$\n",
    "    * $M$: vector of moment of inertia of element $M=\\frac{1}{12}bh^3$\n",
    "    * $K_i$: matrix of local stiffness\n",
    "    * $K$: matrix of global stiffness"
   ]
  },
  {
   "cell_type": "code",
   "execution_count": 1,
   "metadata": {},
   "outputs": [],
   "source": [
    "import numpy as np\n",
    "N = 50\n",
    "EI = 1.\n",
    "L = 1.\n",
    "b = 0.1\n",
    "V = 0.01\n",
    "h = np.ones(N)*0.1"
   ]
  },
  {
   "cell_type": "markdown",
   "metadata": {},
   "source": [
    "# Moment of inertia of element $M$\n"
   ]
  },
  {
   "cell_type": "markdown",
   "metadata": {},
   "source": [
    "$M=\\frac{1}{12}bh^3$, $\\frac{\\partial{M}}{\\partial{h}}=\\frac{1}{4}bh^2$"
   ]
  },
  {
   "cell_type": "code",
   "execution_count": 57,
   "metadata": {},
   "outputs": [],
   "source": [
    "M = 1/12*b*h**3"
   ]
  },
  {
   "cell_type": "markdown",
   "metadata": {},
   "source": [
    "# Compute local stiff matrix:  $K_i$\n",
    "$dK_i=\\frac{EI}{L_0^3}\\begin{bmatrix}\n",
    "    12       & 6L_0    & -12   & 6L_0   \\\\\n",
    "    6L_0     & 4L_0^2  & -6L_0 & 2L_0^2 \\\\\n",
    "    -12      & -6L_0   & 12    & -6L_0  \\\\\n",
    "    6L_0     & 2L_0^2  & -6L_0 & 4L_0^2\n",
    "\\end{bmatrix}$, ${K_i} = dK_i*M_i$, $\\frac{\\partial{K_i}}{\\partial{M_j}}=dK_i*(i=k)+0*(i\\neq j)$\n",
    "\n",
    "[link](https://www.12000.org/my_notes/stiffness_matrix/stiffness_matrix_report.htm),"
   ]
  },
  {
   "cell_type": "code",
   "execution_count": 62,
   "metadata": {},
   "outputs": [],
   "source": [
    "L0 = L / N\n",
    "dKi = np.empty((4, 4))\n",
    "dKi[0, :] = [12 , 6 * L0, -12, 6 * L0]\n",
    "dKi[1, :] = [6 * L0, 4 * L0 ** 2, -6 * L0, 2 * L0 ** 2]\n",
    "dKi[2, :] = [-12 , -6 * L0, 12, -6 * L0]\n",
    "dKi[3, :] = [6 * L0, 2 * L0 ** 2, -6 * L0, 4 * L0 ** 2]\n",
    "dKi *= E / L0 ** 3"
   ]
  },
  {
   "cell_type": "code",
   "execution_count": 67,
   "metadata": {},
   "outputs": [],
   "source": [
    "mtx = np.empty((N,4,4,N))\n",
    "for ind in range(N):\n",
    "    mtx[ind, :, :, ind] = dKi\n",
    "i = 1\n",
    "Ki = dKi * M[i]"
   ]
  },
  {
   "cell_type": "markdown",
   "metadata": {},
   "source": [
    "#  Assemble global stiff matrix:  $K$\n",
    "\n",
    " "
   ]
  },
  {
   "cell_type": "markdown",
   "metadata": {},
   "source": [
    "$\\frac{\\partial{K}}{\\partial{K_i}}=1$\n",
    "\n",
    "And augment boundary constraint"
   ]
  },
  {
   "cell_type": "markdown",
   "metadata": {},
   "source": [
    "#  solve $K\\hat{d}=f$  augmented with the Lagrange multipliers"
   ]
  },
  {
   "cell_type": "markdown",
   "metadata": {},
   "source": [
    "# extract the displacements in  $d$\n",
    "$d=\n",
    "\\hat{d}[0:2*N]$, $\\frac{\\partial{d}}{\\partial{\\hat{d}}}=[1,1,...,1,0,0]$"
   ]
  },
  {
   "cell_type": "markdown",
   "metadata": {},
   "source": [
    "#  compliance $f^Td$\n",
    "\n",
    "$\\frac{\\partial{f^Td}}{\\partial{d}}=f$"
   ]
  },
  {
   "cell_type": "markdown",
   "metadata": {},
   "source": [
    "# Volume $V=\\sum{hbL_0}$ \n",
    "$V=\\sum{hbL_0}$, $\\frac{\\partial{V}}{\\partial{h}}=bL_0$"
   ]
  },
  {
   "cell_type": "markdown",
   "metadata": {},
   "source": [
    "# In OpenMDAO"
   ]
  },
  {
   "cell_type": "code",
   "execution_count": 1,
   "metadata": {},
   "outputs": [],
   "source": [
    "# remove all variables\n",
    "import sys\n",
    "sys.modules[__name__].__dict__.clear()"
   ]
  },
  {
   "cell_type": "markdown",
   "metadata": {},
   "source": [
    "##  Moment of inertia of element "
   ]
  },
  {
   "cell_type": "code",
   "execution_count": 2,
   "metadata": {},
   "outputs": [],
   "source": [
    "from __future__ import division\n",
    "import numpy as np\n",
    "from openmdao.api import ExplicitComponent\n",
    "\n",
    "\n",
    "class MomentOfInertiaComp(ExplicitComponent):\n",
    "\n",
    "    def initialize(self):\n",
    "        self.metadata.declare('num_elements', types=int)\n",
    "        self.metadata.declare('b')\n",
    "\n",
    "    def setup(self):\n",
    "        num_elements = self.metadata['num_elements']\n",
    "\n",
    "        self.add_input('h', shape=num_elements)\n",
    "        self.add_output('I', shape=num_elements)\n",
    "\n",
    "        rows = np.arange(num_elements)\n",
    "        cols = np.arange(num_elements)\n",
    "        self.declare_partials('I', 'h', rows=rows, cols=cols)\n",
    "\n",
    "    def compute(self, inputs, outputs):\n",
    "        b = self.metadata['b']\n",
    "\n",
    "        outputs['I'] = 1./12. * b * inputs['h'] ** 3\n",
    "\n",
    "    def compute_partials(self, inputs, partials):\n",
    "        b = self.metadata['b']\n",
    "\n",
    "        partials['I', 'h'] = 1./4. * b * inputs['h'] ** 2"
   ]
  },
  {
   "cell_type": "markdown",
   "metadata": {},
   "source": [
    "##  Compute local stiff matrix"
   ]
  },
  {
   "cell_type": "code",
   "execution_count": 3,
   "metadata": {},
   "outputs": [],
   "source": [
    "from __future__ import division\n",
    "import numpy as np\n",
    "from openmdao.api import ExplicitComponent\n",
    "\n",
    "\n",
    "class LocalStiffnessMatrixComp(ExplicitComponent):\n",
    "\n",
    "    def initialize(self):\n",
    "        self.metadata.declare('num_elements', types=int)\n",
    "        self.metadata.declare('E')\n",
    "        self.metadata.declare('L')\n",
    "\n",
    "    def setup(self):\n",
    "        num_elements = self.metadata['num_elements']\n",
    "        E = self.metadata['E']\n",
    "        L = self.metadata['L']\n",
    "\n",
    "        self.add_input('I', shape=num_elements)\n",
    "        self.add_output('K_local', shape=(num_elements, 4, 4))\n",
    "\n",
    "        L0 = L / num_elements\n",
    "        coeffs = np.empty((4, 4))\n",
    "        coeffs[0, :] = [12 , 6 * L0, -12, 6 * L0]\n",
    "        coeffs[1, :] = [6 * L0, 4 * L0 ** 2, -6 * L0, 2 * L0 ** 2]\n",
    "        coeffs[2, :] = [-12 , -6 * L0, 12, -6 * L0]\n",
    "        coeffs[3, :] = [6 * L0, 2 * L0 ** 2, -6 * L0, 4 * L0 ** 2]\n",
    "        coeffs *= E / L0 ** 3\n",
    "\n",
    "        self.mtx = mtx = np.zeros((num_elements, 4, 4, num_elements))\n",
    "        for ind in range(num_elements):\n",
    "            self.mtx[ind, :, :, ind] = coeffs\n",
    "\n",
    "        self.declare_partials('K_local', 'I',\n",
    "            val=self.mtx.reshape(16 * num_elements, num_elements))\n",
    "\n",
    "    def compute(self, inputs, outputs):\n",
    "        num_elements = self.metadata['num_elements']\n",
    "\n",
    "        outputs['K_local'] = 0\n",
    "        for ind in range(num_elements):\n",
    "            outputs['K_local'][ind, :, :] = self.mtx[ind, :, :, ind] * inputs['I'][ind]"
   ]
  },
  {
   "cell_type": "markdown",
   "metadata": {},
   "source": [
    "##  Assemble global stiff matrix"
   ]
  },
  {
   "cell_type": "code",
   "execution_count": 4,
   "metadata": {},
   "outputs": [],
   "source": [
    "from __future__ import division\n",
    "import numpy as np\n",
    "from openmdao.api import ExplicitComponent\n",
    "\n",
    "\n",
    "class GlobalStiffnessMatrixComp(ExplicitComponent):\n",
    "\n",
    "    def initialize(self):\n",
    "        self.metadata.declare('num_elements', types=int)\n",
    "\n",
    "    def setup(self):\n",
    "        num_elements = self.metadata['num_elements']\n",
    "        num_nodes = num_elements + 1\n",
    "\n",
    "        self.add_input('K_local', shape=(num_elements, 4, 4))\n",
    "        self.add_output('K', shape=(2 * num_nodes + 2, 2 * num_nodes + 2))\n",
    "\n",
    "        rows = np.zeros(16 * num_elements, int)\n",
    "        indices = np.arange(\n",
    "            ((2 * num_nodes + 2) * (2 * num_nodes + 2))\n",
    "        ).reshape((2 * num_nodes + 2, 2 * num_nodes + 2))\n",
    "        ind1, ind2 = 0, 0\n",
    "        for ind in range(num_elements):\n",
    "            ind2 += 16\n",
    "            ind1_ = 2 * ind\n",
    "            ind2_ = 2 * ind + 4\n",
    "            rows[ind1:ind2] = indices[ind1_:ind2_, ind1_:ind2_].flatten()\n",
    "            ind1 += 16\n",
    "        cols = np.arange(16 * num_elements)\n",
    "        self.declare_partials('K', 'K_local', val=1., rows=rows, cols=cols)\n",
    "\n",
    "        self.set_check_partial_options('K_local', step=1e0)\n",
    "\n",
    "    def compute(self, inputs, outputs):\n",
    "        num_elements = self.metadata['num_elements']\n",
    "        num_nodes = num_elements + 1\n",
    "\n",
    "        outputs['K'][:, :] = 0.\n",
    "        for ind in range(num_elements):\n",
    "            ind1_ = 2 * ind\n",
    "            ind2_ = 2 * ind + 4\n",
    "\n",
    "            outputs['K'][ind1_:ind2_, ind1_:ind2_] += inputs['K_local'][ind, :, :]\n",
    "\n",
    "        outputs['K'][2 * num_nodes + 0, 0] = 1.0\n",
    "        outputs['K'][2 * num_nodes + 1, 1] = 1.0\n",
    "        outputs['K'][0, 2 * num_nodes + 0] = 1.0\n",
    "        outputs['K'][1, 2 * num_nodes + 1] = 1.0"
   ]
  },
  {
   "cell_type": "markdown",
   "metadata": {},
   "source": [
    "##  solve  Kd̂ =f  augmented with the Lagrange multipliers"
   ]
  },
  {
   "cell_type": "code",
   "execution_count": 5,
   "metadata": {},
   "outputs": [],
   "source": [
    "from __future__ import division\n",
    "import numpy as np\n",
    "from scipy.linalg import lu_factor, lu_solve\n",
    "from openmdao.api import ImplicitComponent\n",
    "\n",
    "\n",
    "class StatesComp(ImplicitComponent):\n",
    "\n",
    "    def initialize(self):\n",
    "        self.metadata.declare('num_elements', types=int)\n",
    "        self.metadata.declare('force_vector', types=np.ndarray)\n",
    "\n",
    "    def setup(self):\n",
    "        num_elements = self.metadata['num_elements']\n",
    "        num_nodes = num_elements + 1\n",
    "        size = 2 * num_nodes + 2\n",
    "\n",
    "        self.add_input('K', shape=(size, size))\n",
    "        self.add_output('d', shape=size)\n",
    "\n",
    "        rows = np.outer(np.arange(size), np.ones(size, int)).flatten()\n",
    "        cols = np.arange(size ** 2)\n",
    "        self.declare_partials('d', 'K', rows=rows, cols=cols)\n",
    "\n",
    "        self.declare_partials('d', 'd')\n",
    "\n",
    "    def apply_nonlinear(self, inputs, outputs, residuals):\n",
    "        force_vector = np.concatenate([self.metadata['force_vector'], np.zeros(2)])\n",
    "\n",
    "        residuals['d'] = np.dot(inputs['K'], outputs['d']) - force_vector\n",
    "\n",
    "    def solve_nonlinear(self, inputs, outputs):\n",
    "        force_vector = np.concatenate([self.metadata['force_vector'], np.zeros(2)])\n",
    "\n",
    "        self.lu = lu_factor(inputs['K'])\n",
    "\n",
    "        outputs['d'] = lu_solve(self.lu, force_vector)\n",
    "\n",
    "    def linearize(self, inputs, outputs, partials):\n",
    "        num_elements = self.metadata['num_elements']\n",
    "        num_nodes = num_elements + 1\n",
    "        size = 2 * num_nodes + 2\n",
    "\n",
    "        self.lu = lu_factor(inputs['K'])\n",
    "\n",
    "        partials['d', 'K'] = np.outer(np.ones(size), outputs['d']).flatten()\n",
    "        partials['d', 'd'] = inputs['K']\n",
    "\n",
    "    def solve_linear(self, d_outputs, d_residuals, mode):\n",
    "        if mode == 'fwd':\n",
    "            d_outputs['d'] = lu_solve(self.lu, d_residuals['d'], trans=0)\n",
    "        else:\n",
    "            d_residuals['d'] = lu_solve(self.lu, d_outputs['d'], trans=1)"
   ]
  },
  {
   "cell_type": "markdown",
   "metadata": {},
   "source": [
    "##  extract the displacements in  d(d̂)"
   ]
  },
  {
   "cell_type": "code",
   "execution_count": 6,
   "metadata": {},
   "outputs": [],
   "source": [
    "from __future__ import division\n",
    "import numpy as np\n",
    "from openmdao.api import ExplicitComponent\n",
    "\n",
    "\n",
    "class DisplacementsComp(ExplicitComponent):\n",
    "\n",
    "    def initialize(self):\n",
    "        self.metadata.declare('num_elements', types=int)\n",
    "\n",
    "    def setup(self):\n",
    "        num_elements = self.metadata['num_elements']\n",
    "        num_nodes = num_elements + 1\n",
    "        size = 2 * num_nodes + 2\n",
    "\n",
    "        self.add_input('d', shape=size)\n",
    "        self.add_output('displacements', shape=2 * num_nodes)\n",
    "\n",
    "        arange = np.arange(2 * num_nodes)\n",
    "        self.declare_partials('displacements', 'd', val=1., rows=arange, cols=arange)\n",
    "\n",
    "    def compute(self, inputs, outputs):\n",
    "        num_elements = self.metadata['num_elements']\n",
    "        num_nodes = num_elements + 1\n",
    "\n",
    "        outputs['displacements'] = inputs['d'][:2 * num_nodes]"
   ]
  },
  {
   "cell_type": "markdown",
   "metadata": {},
   "source": [
    "##   compliance  fTd(d)"
   ]
  },
  {
   "cell_type": "code",
   "execution_count": 7,
   "metadata": {},
   "outputs": [],
   "source": [
    "from __future__ import division\n",
    "import numpy as np\n",
    "from openmdao.api import ExplicitComponent\n",
    "\n",
    "\n",
    "class ComplianceComp(ExplicitComponent):\n",
    "\n",
    "    def initialize(self):\n",
    "        self.metadata.declare('num_elements', types=int)\n",
    "        self.metadata.declare('force_vector', types=np.ndarray)\n",
    "\n",
    "    def setup(self):\n",
    "        num_elements = self.metadata['num_elements']\n",
    "        num_nodes = num_elements + 1\n",
    "        force_vector = self.metadata['force_vector']\n",
    "\n",
    "        self.add_input('displacements', shape=2 * num_nodes)\n",
    "        self.add_output('compliance')\n",
    "\n",
    "        self.declare_partials('compliance', 'displacements',\n",
    "            val=force_vector.reshape((1, 2 * num_nodes)))\n",
    "\n",
    "    def compute(self, inputs, outputs):\n",
    "        force_vector = self.metadata['force_vector']\n",
    "\n",
    "        outputs['compliance'] = np.dot(force_vector, inputs['displacements'])"
   ]
  },
  {
   "cell_type": "markdown",
   "metadata": {},
   "source": [
    "##  volume  V(h)"
   ]
  },
  {
   "cell_type": "code",
   "execution_count": 8,
   "metadata": {},
   "outputs": [],
   "source": [
    "from __future__ import division\n",
    "import numpy as np\n",
    "from openmdao.api import ExplicitComponent\n",
    "\n",
    "\n",
    "class VolumeComp(ExplicitComponent):\n",
    "\n",
    "    def initialize(self):\n",
    "        self.metadata.declare('num_elements', types=int)\n",
    "        self.metadata.declare('b', default=1.)\n",
    "        self.metadata.declare('L')\n",
    "\n",
    "    def setup(self):\n",
    "        num_elements = self.metadata['num_elements']\n",
    "        b = self.metadata['b']\n",
    "        L = self.metadata['L']\n",
    "        L0 = L / num_elements\n",
    "\n",
    "        self.add_input('h', shape=num_elements)\n",
    "        self.add_output('volume')\n",
    "\n",
    "        self.declare_partials('volume', 'h', val=b * L0)\n",
    "\n",
    "    def compute(self, inputs, outputs):\n",
    "        num_elements = self.metadata['num_elements']\n",
    "        b = self.metadata['b']\n",
    "        L = self.metadata['L']\n",
    "        L0 = L / num_elements\n",
    "\n",
    "        outputs['volume'] = np.sum(inputs['h'] * b * L0)"
   ]
  },
  {
   "cell_type": "markdown",
   "metadata": {},
   "source": [
    "## Group together"
   ]
  },
  {
   "cell_type": "code",
   "execution_count": 9,
   "metadata": {},
   "outputs": [],
   "source": [
    "from __future__ import division\n",
    "import numpy as np\n",
    "\n",
    "from openmdao.api import Group, IndepVarComp\n",
    "class BeamGroup(Group):\n",
    "\n",
    "    def initialize(self):\n",
    "        self.metadata.declare('E')\n",
    "        self.metadata.declare('L')\n",
    "        self.metadata.declare('b')\n",
    "        self.metadata.declare('volume')\n",
    "        self.metadata.declare('num_elements', int)\n",
    "\n",
    "    def setup(self):\n",
    "        E = self.metadata['E']\n",
    "        L = self.metadata['L']\n",
    "        b = self.metadata['b']\n",
    "        volume = self.metadata['volume']\n",
    "        num_elements = self.metadata['num_elements']\n",
    "        num_nodes = num_elements + 1\n",
    "\n",
    "        force_vector = np.zeros(2 * num_nodes)\n",
    "        force_vector[-2] = -1.\n",
    "\n",
    "        inputs_comp = IndepVarComp()\n",
    "        inputs_comp.add_output('h', shape=num_elements)\n",
    "        self.add_subsystem('inputs_comp', inputs_comp)\n",
    "\n",
    "        I_comp = MomentOfInertiaComp(num_elements=num_elements, b=b)\n",
    "        self.add_subsystem('I_comp', I_comp)\n",
    "\n",
    "        comp = LocalStiffnessMatrixComp(num_elements=num_elements, E=E, L=L)\n",
    "        self.add_subsystem('local_stiffness_matrix_comp', comp)\n",
    "\n",
    "        comp = GlobalStiffnessMatrixComp(num_elements=num_elements)\n",
    "        self.add_subsystem('global_stiffness_matrix_comp', comp)\n",
    "\n",
    "        comp = StatesComp(num_elements=num_elements, force_vector=force_vector)\n",
    "        self.add_subsystem('states_comp', comp)\n",
    "\n",
    "        comp = DisplacementsComp(num_elements=num_elements)\n",
    "        self.add_subsystem('displacements_comp', comp)\n",
    "\n",
    "        comp = ComplianceComp(num_elements=num_elements, force_vector=force_vector)\n",
    "        self.add_subsystem('compliance_comp', comp)\n",
    "\n",
    "        comp = VolumeComp(num_elements=num_elements, b=b, L=L)\n",
    "        self.add_subsystem('volume_comp', comp)\n",
    "\n",
    "        self.connect('inputs_comp.h', 'I_comp.h')\n",
    "        self.connect('I_comp.I', 'local_stiffness_matrix_comp.I')\n",
    "        self.connect(\n",
    "            'local_stiffness_matrix_comp.K_local',\n",
    "            'global_stiffness_matrix_comp.K_local')\n",
    "        self.connect(\n",
    "            'global_stiffness_matrix_comp.K',\n",
    "            'states_comp.K')\n",
    "        self.connect(\n",
    "            'states_comp.d',\n",
    "            'displacements_comp.d')\n",
    "        self.connect(\n",
    "            'displacements_comp.displacements',\n",
    "            'compliance_comp.displacements')\n",
    "        self.connect(\n",
    "            'inputs_comp.h',\n",
    "            'volume_comp.h')\n",
    "\n",
    "        self.add_design_var('inputs_comp.h', lower=1e-2, upper=10.)\n",
    "        self.add_objective('compliance_comp.compliance')\n",
    "        self.add_constraint('volume_comp.volume', equals=volume)"
   ]
  },
  {
   "cell_type": "markdown",
   "metadata": {},
   "source": [
    "## Run Model "
   ]
  },
  {
   "cell_type": "code",
   "execution_count": 13,
   "metadata": {},
   "outputs": [
    {
     "name": "stdout",
     "output_type": "stream",
     "text": [
      "Inequality constraints incompatible    (Exit mode 4)\n",
      "            Current function value: 2994247.5588652\n",
      "            Iterations: 73\n",
      "            Function evaluations: 568\n",
      "            Gradient evaluations: 73\n",
      "Optimization FAILED.\n",
      "Inequality constraints incompatible\n",
      "-----------------------------------\n",
      "[0.50493328 0.46185523 0.42021919 0.37730544 0.33448261 0.26834159\n",
      " 0.22499123 0.18242828 0.17320688 0.13081676 0.08935424 0.08935423\n",
      " 0.08935421 0.0893542  0.08935418 0.08935417 0.08935415 0.08935414\n",
      " 0.08935412 0.08935411 0.08935409 0.08935408 0.08935407 0.08935405\n",
      " 0.08935404 0.08935402 0.08935401 0.08935399 0.08935398 0.08935396\n",
      " 0.08935395 0.08935394 0.08935392 0.08959962 0.0895996  0.08959959\n",
      " 0.08959957 0.08959956 0.08959954 0.08959953 0.08959952 0.0895995\n",
      " 0.08959949 0.08959947 0.08959946 0.08959945 0.11287415 0.12285396\n",
      " 0.12285395 0.12285394 0.12285392 0.12285391 0.1228539  0.12285388\n",
      " 0.12285387 0.12285385 0.12285384 0.12285383 0.12285381 0.1228538\n",
      " 0.12285379 0.12285377 0.12285376 0.12285375 0.12285373 0.12285372\n",
      " 0.12285371 0.12285369 0.12285368 0.12285367 0.12285365 0.12285364\n",
      " 0.12285363 0.12285361 0.1228536  0.12285359 0.12285358 0.12285356\n",
      " 0.12285355 0.12285354 0.12285352 0.12285351 0.1228535  0.12285349\n",
      " 0.12285347 0.12285346 0.12285345 0.12285343 0.12285342 0.12285341\n",
      " 0.1228534  0.12285338 0.12285337 0.12285336 0.12285335 0.12285333\n",
      " 0.12285332 0.12285331 0.12285332 0.12285329 0.12285327 0.12285326\n",
      " 0.12285326 0.12285324 0.12285322 0.12285321 0.12285321 0.12285319\n",
      " 0.12285318 0.12285316 0.12285315 0.12285316 0.12285313 0.12285312\n",
      " 0.12285311 0.12285309 0.12285308 0.12285307 0.12285307 0.12285305\n",
      " 0.12285305 0.12285306 0.12285306 0.122853   0.122853   0.12285299\n",
      " 0.12285297 0.12285297 0.12285295 0.12285296 0.12285294 0.12285291\n",
      " 0.1228529  0.1228529  0.12285288 0.12285286 0.12285287 0.12285285\n",
      " 0.12285283 0.12285282 0.12285281 0.12285281 0.12285281 0.12285281\n",
      " 0.12285276 0.12285281 0.12285275 0.12285273 0.12285276 0.12285271\n",
      " 0.12285277 0.12285271 0.12285268 0.12285271 0.12285275 0.12285267\n",
      " 0.12285267 0.1228527  0.12285264 0.1228526  0.12285259 0.12285264\n",
      " 0.1228526  0.12285258 0.12285262 0.12285259 0.12285265 0.12285254\n",
      " 0.12285255 0.12285251 0.12285258 0.1228525  0.12285263 0.12285263\n",
      " 0.12285245 0.12285258 0.12285263 0.12285244 0.12285241 0.12285242\n",
      " 0.12285242 0.12285241 0.12285244 0.12285239 0.12285247 0.12285238\n",
      " 0.12285252 0.12285238 0.12285234 0.12285244 0.1228523  0.12285233\n",
      " 0.12285228 0.12285229 0.12285228 0.12285225 0.12285224 0.12285228\n",
      " 0.12285229 0.12285221 0.12285222 0.12285235 0.12285218 0.12285222\n",
      " 0.12285223 0.12285227 0.12285245 0.1228522  0.12285234 0.12285226\n",
      " 0.12285224 0.12285218 0.12285225 0.12285228 0.12285231 0.12285212\n",
      " 0.12285213 0.12285216 0.12285227 0.12285212 0.12285227 0.12285212\n",
      " 0.12285219 0.12285213 0.12285212 0.12285238 0.12285235 0.12285221\n",
      " 0.12285212 0.12285223 0.12285215 0.12285229 0.12285212 0.12285218\n",
      " 0.12285241 0.12285219 0.12285223 0.12285218 0.12285228 0.12285225\n",
      " 0.12285218 0.1228523  0.12285229 0.11445357 0.1228523  0.12285212\n",
      " 0.12285255 0.12285224 0.12285233 0.12285218 0.12285212 0.12285212\n",
      " 0.12285227 0.12285225 0.12285233 0.11287161 0.11287249 0.12285213\n",
      " 0.12285218 0.1128723  0.11289113 0.11287264 0.11287236 0.08959803\n",
      " 0.11439243 0.0896201  0.12285217 0.11287242 0.08959793 0.1128724\n",
      " 0.12285229 0.12170026 0.08959758 0.11439237 0.08959775 0.08959831\n",
      " 0.11287234 0.08959758 0.08959772 0.08959799 0.12170013 0.08959763\n",
      " 0.11439239 0.08959801 0.08935241 0.08935206 0.1128723  0.08959838\n",
      " 0.08959758 0.11287252 0.11287282 0.08935188 0.08959777 0.08935209\n",
      " 0.11434311 0.11287253 0.11287241 0.0895978  0.08935187 0.08935251\n",
      " 0.08935207 0.08959766 0.08935292 0.08935244 0.12285251 0.08959771\n",
      " 0.0893519  0.08935231 0.08935226 0.08935335 0.08935226 0.08935218\n",
      " 0.08935271 0.08935222 0.0895978  0.08935187 0.08935187 0.09308106\n",
      " 0.0893535  0.08935239 0.08935201 0.08935252 0.08935211 0.08935201\n",
      " 0.08935191 0.08935256 0.08935213 0.1143429  0.11289139 0.08935207\n",
      " 0.08935195 0.08935285 0.0893519  0.089352   0.08935214 0.08935318\n",
      " 0.08935225 0.08935217 0.08935198 0.11434264 0.114343   0.08935187\n",
      " 0.08935227 0.11434238 0.08935187 0.08935187 0.08935252 0.08935212\n",
      " 0.08935207 0.11434354 0.08935203 0.08935272 0.0893521  0.08935226\n",
      " 0.08935189 0.08935206 0.11287371 0.08935404 0.0893537  0.08935187\n",
      " 0.08935235 0.11289109 0.08935295 0.11289178 0.08935205 0.08935221\n",
      " 0.1128911  0.1128914  0.08935391 0.11289195 0.08935187 0.08935498\n",
      " 0.08935191 0.08935201 0.08935245 0.11434229 0.11434229 0.08935192\n",
      " 0.11434229 0.08935209 0.08935209 0.11434269 0.11289164 0.08935257\n",
      " 0.11900803 0.1143429  0.08935482 0.11434253 0.11289109 0.1143425\n",
      " 0.08935242 0.08935205 0.08935212 0.08935372 0.08935313 0.08935196\n",
      " 0.08935268 0.08935187 0.08935231 0.11289155 0.11289389 0.11289124\n",
      " 0.08935207 0.11434435 0.11289138 0.08935255 0.08935233 0.08935386\n",
      " 0.08935188 0.08935338 0.08935369 0.12170071 0.08935261 0.08935437\n",
      " 0.11434378 0.08935281 0.08935213 0.08935339 0.08935212 0.08935382\n",
      " 0.08935221 0.11289454 0.08935253 0.08935373 0.08935486 0.08935235\n",
      " 0.1128917  0.08935241 0.08935194 0.08935491 0.08935216 0.08935228\n",
      " 0.08935225 0.08935187 0.11289331 0.08935333 0.08935248 0.08935226\n",
      " 0.08935286 0.08935283 0.0893552  0.11289465 0.11289285 0.08935271\n",
      " 0.11289154 0.08935189 0.08935198 0.1143423  0.089598   0.11434398\n",
      " 0.11289684 0.09308045 0.11289436 0.08935187 0.11289224 0.11289147\n",
      " 0.11434283 0.08962008 0.08935188 0.1143423  0.08935581 0.1143449\n",
      " 0.11289139 0.08935217 0.11434458 0.09308298 0.08935188 0.11289353\n",
      " 0.11289163 0.12170013 0.11434231 0.11289142 0.11901134 0.11289348\n",
      " 0.11434239 0.1128911  0.11900932 0.11287315 0.11289109 0.11289426\n",
      " 0.11901025 0.11434255 0.1143466  0.08935437 0.11289369 0.11287582\n",
      " 0.11434231 0.11289157 0.11434305 0.08961782 0.08935234 0.11434591\n",
      " 0.112892   0.11289275 0.08935369 0.11434353 0.11287446 0.11287766\n",
      " 0.09308551 0.08960102]\n"
     ]
    }
   ],
   "source": [
    "import numpy as np\n",
    "\n",
    "from openmdao.api import Problem, ScipyOptimizer\n",
    "\n",
    "#from openmdao.test_suite.test_examples.beam_optimization.beam_group import BeamGroup\n",
    "\n",
    "E = 1.\n",
    "L = 10.\n",
    "b = 1\n",
    "volume = 0.1\n",
    "\n",
    "num_elements = 500\n",
    "\n",
    "prob = Problem(model=BeamGroup(E=E, L=L, b=b, volume=volume, num_elements=num_elements))\n",
    "\n",
    "prob.driver = ScipyOptimizer()\n",
    "prob.driver.options['optimizer'] = 'SLSQP'\n",
    "prob.driver.options['tol'] = 1e-9\n",
    "prob.driver.options['disp'] = True\n",
    "\n",
    "prob.setup()\n",
    "\n",
    "prob.run_driver()\n",
    "print(prob['inputs_comp.h'])"
   ]
  },
  {
   "cell_type": "code",
   "execution_count": 16,
   "metadata": {},
   "outputs": [],
   "source": [
    "%matplotlib inline"
   ]
  },
  {
   "cell_type": "code",
   "execution_count": 17,
   "metadata": {
    "scrolled": true
   },
   "outputs": [
    {
     "ename": "KeyError",
     "evalue": "'_oh'",
     "output_type": "error",
     "traceback": [
      "\u001b[0;31m---------------------------------------------------------------------------\u001b[0m",
      "\u001b[0;31mKeyError\u001b[0m                                  Traceback (most recent call last)",
      "\u001b[0;32m<ipython-input-17-8770cde894bf>\u001b[0m in \u001b[0;36m<module>\u001b[0;34m()\u001b[0m\n\u001b[1;32m      1\u001b[0m \u001b[0;32mimport\u001b[0m \u001b[0mmatplotlib\u001b[0m\u001b[0;34m.\u001b[0m\u001b[0mpyplot\u001b[0m \u001b[0;32mas\u001b[0m \u001b[0mplt\u001b[0m\u001b[0;34m\u001b[0m\u001b[0m\n\u001b[0;32m----> 2\u001b[0;31m \u001b[0mplt\u001b[0m\u001b[0;34m.\u001b[0m\u001b[0mplot\u001b[0m\u001b[0;34m(\u001b[0m\u001b[0mprob\u001b[0m\u001b[0;34m[\u001b[0m\u001b[0;34m'inputs_comp.h'\u001b[0m\u001b[0;34m]\u001b[0m\u001b[0;34m,\u001b[0m\u001b[0;34m'.'\u001b[0m\u001b[0;34m)\u001b[0m\u001b[0;34m\u001b[0m\u001b[0m\n\u001b[0m",
      "\u001b[0;32m/cfs/klemming/nobackup/x/xshi/anaconda3/envs/thesis/lib/python3.6/site-packages/IPython/core/displayhook.py\u001b[0m in \u001b[0;36m__call__\u001b[0;34m(self, result)\u001b[0m\n\u001b[1;32m    256\u001b[0m             \u001b[0mself\u001b[0m\u001b[0;34m.\u001b[0m\u001b[0mwrite_output_prompt\u001b[0m\u001b[0;34m(\u001b[0m\u001b[0;34m)\u001b[0m\u001b[0;34m\u001b[0m\u001b[0m\n\u001b[1;32m    257\u001b[0m             \u001b[0mformat_dict\u001b[0m\u001b[0;34m,\u001b[0m \u001b[0mmd_dict\u001b[0m \u001b[0;34m=\u001b[0m \u001b[0mself\u001b[0m\u001b[0;34m.\u001b[0m\u001b[0mcompute_format_data\u001b[0m\u001b[0;34m(\u001b[0m\u001b[0mresult\u001b[0m\u001b[0;34m)\u001b[0m\u001b[0;34m\u001b[0m\u001b[0m\n\u001b[0;32m--> 258\u001b[0;31m             \u001b[0mself\u001b[0m\u001b[0;34m.\u001b[0m\u001b[0mupdate_user_ns\u001b[0m\u001b[0;34m(\u001b[0m\u001b[0mresult\u001b[0m\u001b[0;34m)\u001b[0m\u001b[0;34m\u001b[0m\u001b[0m\n\u001b[0m\u001b[1;32m    259\u001b[0m             \u001b[0mself\u001b[0m\u001b[0;34m.\u001b[0m\u001b[0mfill_exec_result\u001b[0m\u001b[0;34m(\u001b[0m\u001b[0mresult\u001b[0m\u001b[0;34m)\u001b[0m\u001b[0;34m\u001b[0m\u001b[0m\n\u001b[1;32m    260\u001b[0m             \u001b[0;32mif\u001b[0m \u001b[0mformat_dict\u001b[0m\u001b[0;34m:\u001b[0m\u001b[0;34m\u001b[0m\u001b[0m\n",
      "\u001b[0;32m/cfs/klemming/nobackup/x/xshi/anaconda3/envs/thesis/lib/python3.6/site-packages/IPython/core/displayhook.py\u001b[0m in \u001b[0;36mupdate_user_ns\u001b[0;34m(self, result)\u001b[0m\n\u001b[1;32m    194\u001b[0m \u001b[0;34m\u001b[0m\u001b[0m\n\u001b[1;32m    195\u001b[0m         \u001b[0;31m# Avoid recursive reference when displaying _oh/Out\u001b[0m\u001b[0;34m\u001b[0m\u001b[0;34m\u001b[0m\u001b[0m\n\u001b[0;32m--> 196\u001b[0;31m         \u001b[0;32mif\u001b[0m \u001b[0mresult\u001b[0m \u001b[0;32mis\u001b[0m \u001b[0;32mnot\u001b[0m \u001b[0mself\u001b[0m\u001b[0;34m.\u001b[0m\u001b[0mshell\u001b[0m\u001b[0;34m.\u001b[0m\u001b[0muser_ns\u001b[0m\u001b[0;34m[\u001b[0m\u001b[0;34m'_oh'\u001b[0m\u001b[0;34m]\u001b[0m\u001b[0;34m:\u001b[0m\u001b[0;34m\u001b[0m\u001b[0m\n\u001b[0m\u001b[1;32m    197\u001b[0m             \u001b[0;32mif\u001b[0m \u001b[0mlen\u001b[0m\u001b[0;34m(\u001b[0m\u001b[0mself\u001b[0m\u001b[0;34m.\u001b[0m\u001b[0mshell\u001b[0m\u001b[0;34m.\u001b[0m\u001b[0muser_ns\u001b[0m\u001b[0;34m[\u001b[0m\u001b[0;34m'_oh'\u001b[0m\u001b[0;34m]\u001b[0m\u001b[0;34m)\u001b[0m \u001b[0;34m>=\u001b[0m \u001b[0mself\u001b[0m\u001b[0;34m.\u001b[0m\u001b[0mcache_size\u001b[0m \u001b[0;32mand\u001b[0m \u001b[0mself\u001b[0m\u001b[0;34m.\u001b[0m\u001b[0mdo_full_cache\u001b[0m\u001b[0;34m:\u001b[0m\u001b[0;34m\u001b[0m\u001b[0m\n\u001b[1;32m    198\u001b[0m                 \u001b[0mself\u001b[0m\u001b[0;34m.\u001b[0m\u001b[0mcull_cache\u001b[0m\u001b[0;34m(\u001b[0m\u001b[0;34m)\u001b[0m\u001b[0;34m\u001b[0m\u001b[0m\n",
      "\u001b[0;31mKeyError\u001b[0m: '_oh'"
     ]
    },
    {
     "data": {
      "image/png": "[encoded data removed]",
      "text/plain": [
       "<matplotlib.figure.Figure at 0x7f1401d4eda0>"
      ]
     },
     "metadata": {},
     "output_type": "display_data"
    }
   ],
   "source": [
    "import matplotlib.pyplot as plt\n",
    "plt.plot(prob['inputs_comp.h'],'.')"
   ]
  },
  {
   "cell_type": "code",
   "execution_count": null,
   "metadata": {},
   "outputs": [],
   "source": []
  }
 ],
 "metadata": {
  "kernelspec": {
   "display_name": "Python [conda env:thesis]",
   "language": "python",
   "name": "conda-env-thesis-py"
  },
  "language_info": {
   "codemirror_mode": {
    "name": "ipython",
    "version": 3
   },
   "file_extension": ".py",
   "mimetype": "text/x-python",
   "name": "python",
   "nbconvert_exporter": "python",
   "pygments_lexer": "ipython3",
   "version": "3.6.4"
  },
  "toc": {
   "nav_menu": {},
   "number_sections": true,
   "sideBar": true,
   "skip_h1_title": false,
   "title_cell": "Table of Contents",
   "title_sidebar": "Contents",
   "toc_cell": false,
   "toc_position": {},
   "toc_section_display": true,
   "toc_window_display": false
  }
 },
 "nbformat": 4,
 "nbformat_minor": 2
}
