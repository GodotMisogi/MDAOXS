{
 "cells": [
  {
   "cell_type": "markdown",
   "metadata": {},
   "source": [
    "Optimizing the Thickness Distribution of a Cantilever Beam Using the Adjoint Method\n",
    "[link](http://openmdao.org/twodocs/versions/latest/examples/beam_optimization/beam_optimization.html)\n",
    "1. Moment of inertia of element: $M_i(h)$ Explicit\n",
    "2. Compute local stiff matrix:   $K_i(M_i)$ Explicit\n",
    "3. Assemble global stiff matrix: $K(K_i)$ Explicit\n",
    "4. solve $K\\hat{d}=f$ augmented with the Lagrange multipliers $\\hat{d}=\\hat{d}(K,f)$ Implicit\n",
    "5. extract the displacements in $d(\\hat{d})$ Explicit\n",
    "6. objective: compliance $f^Td(d)$ Explicit\n",
    "7. constraint: volume $V(h)$ Explicit\n",
    "\n",
    "\n",
    "* Problem:\n",
    "\n",
    "$\\min f^Td$ w.r.t. $h$\n",
    "\n",
    "such that:     $\\sum{h}bL_0=V$, $10^{-2}<h<10$\n",
    "\n",
    "* Given:\n",
    "    * $N$: scalar of number of element (because it uses FEM)\n",
    "    * $f$: vector of forces\n",
    "    * $L$: scalar of total length of beam\n",
    "    * $b$: scalar of width of beam\n",
    "    * $V$: scalar of volume of beam\n",
    "    * $EI$: scalar of elastic modulus\n",
    "\n",
    "\n",
    "* Unknown:\n",
    "    * $d$: vector of displacement $Kd=f$\n",
    "    * $h$: vector of beam height. **Design Variables**\n",
    "    * $L_0$: scalar of length of a single element $L_0=L/N$\n",
    "    * $M$: vector of moment of inertia of element $M=\\frac{1}{12}bh^3$\n",
    "    * $K_i$: matrix of local stiffness\n",
    "    * $K$: matrix of global stiffness"
   ]
  },
  {
   "cell_type": "code",
   "execution_count": 1,
   "metadata": {},
   "outputs": [
    {
     "ename": "NameError",
     "evalue": "name 'np' is not defined",
     "output_type": "error",
     "traceback": [
      "\u001b[0;31m---------------------------------------------------------------------------\u001b[0m",
      "\u001b[0;31mNameError\u001b[0m                                 Traceback (most recent call last)",
      "\u001b[0;32m<ipython-input-1-047d70c1b32f>\u001b[0m in \u001b[0;36m<module>\u001b[0;34m()\u001b[0m\n\u001b[1;32m      4\u001b[0m \u001b[0mb\u001b[0m \u001b[0;34m=\u001b[0m \u001b[0;36m0.1\u001b[0m\u001b[0;34m\u001b[0m\u001b[0m\n\u001b[1;32m      5\u001b[0m \u001b[0mV\u001b[0m \u001b[0;34m=\u001b[0m \u001b[0;36m0.01\u001b[0m\u001b[0;34m\u001b[0m\u001b[0m\n\u001b[0;32m----> 6\u001b[0;31m \u001b[0mh\u001b[0m \u001b[0;34m=\u001b[0m \u001b[0mnp\u001b[0m\u001b[0;34m.\u001b[0m\u001b[0mones\u001b[0m\u001b[0;34m(\u001b[0m\u001b[0mN\u001b[0m\u001b[0;34m)\u001b[0m\u001b[0;34m*\u001b[0m\u001b[0;36m0.1\u001b[0m\u001b[0;34m\u001b[0m\u001b[0m\n\u001b[0m",
      "\u001b[0;31mNameError\u001b[0m: name 'np' is not defined"
     ]
    }
   ],
   "source": [
    "N = 50\n",
    "EI = 1.\n",
    "L = 1.\n",
    "b = 0.1\n",
    "V = 0.01\n",
    "h = np.ones(N)*0.1"
   ]
  },
  {
   "cell_type": "markdown",
   "metadata": {},
   "source": [
    "# Moment of inertia of element $M$\n"
   ]
  },
  {
   "cell_type": "markdown",
   "metadata": {},
   "source": [
    "$M=\\frac{1}{12}bh^3$, $\\frac{\\partial{M}}{\\partial{h}}=\\frac{1}{4}bh^2$"
   ]
  },
  {
   "cell_type": "code",
   "execution_count": 57,
   "metadata": {},
   "outputs": [],
   "source": [
    "M = 1/12*b*h**3"
   ]
  },
  {
   "cell_type": "markdown",
   "metadata": {},
   "source": [
    "# Compute local stiff matrix:  $K_i$\n",
    "$dK_i=\\frac{EI}{L_0^3}\\begin{bmatrix}\n",
    "    12       & 6L_0    & -12   & 6L_0   \\\\\n",
    "    6L_0     & 4L_0^2  & -6L_0 & 2L_0^2 \\\\\n",
    "    -12      & -6L_0   & 12    & -6L_0  \\\\\n",
    "    6L_0     & 2L_0^2  & -6L_0 & 4L_0^2\n",
    "\\end{bmatrix}$, ${K_i} = dK_i*M_i$, $\\frac{\\partial{K_i}}{\\partial{M_j}}=dK_i*(i=k)+0*(i\\neq j)$\n",
    "\n",
    "[link](https://www.12000.org/my_notes/stiffness_matrix/stiffness_matrix_report.htm),"
   ]
  },
  {
   "cell_type": "code",
   "execution_count": 62,
   "metadata": {},
   "outputs": [],
   "source": [
    "L0 = L / N\n",
    "dKi = np.empty((4, 4))\n",
    "dKi[0, :] = [12 , 6 * L0, -12, 6 * L0]\n",
    "dKi[1, :] = [6 * L0, 4 * L0 ** 2, -6 * L0, 2 * L0 ** 2]\n",
    "dKi[2, :] = [-12 , -6 * L0, 12, -6 * L0]\n",
    "dKi[3, :] = [6 * L0, 2 * L0 ** 2, -6 * L0, 4 * L0 ** 2]\n",
    "dKi *= E / L0 ** 3"
   ]
  },
  {
   "cell_type": "code",
   "execution_count": 67,
   "metadata": {},
   "outputs": [],
   "source": [
    "mtx = np.empty((N,4,4,N))\n",
    "for ind in range(N):\n",
    "    mtx[ind, :, :, ind] = dKi\n",
    "i = 1\n",
    "Ki = dKi * M[i]"
   ]
  },
  {
   "cell_type": "markdown",
   "metadata": {},
   "source": [
    "#  Assemble global stiff matrix:  $K$\n",
    "\n",
    " "
   ]
  },
  {
   "cell_type": "markdown",
   "metadata": {},
   "source": [
    "$\\frac{\\partial{K}}{\\partial{K_i}}=1$\n",
    "\n",
    "And augment boundary constraint"
   ]
  },
  {
   "cell_type": "markdown",
   "metadata": {},
   "source": [
    "#  solve $K\\hat{d}=f$  augmented with the Lagrange multipliers"
   ]
  },
  {
   "cell_type": "markdown",
   "metadata": {},
   "source": [
    "# extract the displacements in  $d$\n",
    "$d=\n",
    "\\hat{d}[0:2*N]$, $\\frac{\\partial{d}}{\\partial{\\hat{d}}}=[1,1,...,1,0,0]$"
   ]
  },
  {
   "cell_type": "markdown",
   "metadata": {},
   "source": [
    "#  compliance $f^Td$\n",
    "\n",
    "$\\frac{\\partial{f^Td}}{\\partial{d}}=f$"
   ]
  },
  {
   "cell_type": "markdown",
   "metadata": {},
   "source": [
    "# Volume $V=\\sum{hbL_0}$ \n",
    "$V=\\sum{hbL_0}$, $\\frac{\\partial{V}}{\\partial{h}}=bL_0$"
   ]
  },
  {
   "cell_type": "markdown",
   "metadata": {},
   "source": [
    "# In OpenMDAO"
   ]
  },
  {
   "cell_type": "code",
   "execution_count": null,
   "metadata": {},
   "outputs": [],
   "source": [
    "# remove all variables\n",
    "import sys\n",
    "sys.modules[__name__].__dict__.clear()"
   ]
  },
  {
   "cell_type": "markdown",
   "metadata": {},
   "source": [
    "##  Moment of inertia of element "
   ]
  },
  {
   "cell_type": "code",
   "execution_count": 2,
   "metadata": {},
   "outputs": [],
   "source": [
    "%matplotlib inline"
   ]
  },
  {
   "cell_type": "code",
   "execution_count": 3,
   "metadata": {
    "scrolled": true
   },
   "outputs": [
    {
     "data": {
      "text/plain": [
       "[<matplotlib.lines.Line2D at 0x7fa6365d03c8>]"
      ]
     },
     "execution_count": 3,
     "metadata": {},
     "output_type": "execute_result"
    },
    {
     "data": {
      "image/png": "[encoded data removed]",
      "text/plain": [
       "<matplotlib.figure.Figure at 0x7fa6366698d0>"
      ]
     },
     "metadata": {},
     "output_type": "display_data"
    }
   ],
   "source": [
    "import matplotlib.pyplot as plt\n",
    "plt.plot(prob['inputs_comp.h'],'.')"
   ]
  }
 ],
 "metadata": {
  "kernelspec": {
   "display_name": "Python [conda env:thesis]",
   "language": "python",
   "name": "conda-env-thesis-py"
  },
  "toc": {
   "nav_menu": {},
   "number_sections": true,
   "sideBar": true,
   "skip_h1_title": false,
   "title_cell": "Table of Contents",
   "title_sidebar": "Contents",
   "toc_cell": false,
   "toc_position": {},
   "toc_section_display": true,
   "toc_window_display": false
  }
 },
 "nbformat": 4,
 "nbformat_minor": 2
}
